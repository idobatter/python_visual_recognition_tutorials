{
 "metadata": {
  "name": "",
  "signature": "sha256:f7a325f763377de96ba575d6965e40ae0762eff686383b625b3b5b4d667ca805"
 },
 "nbformat": 3,
 "nbformat_minor": 0,
 "worksheets": [
  {
   "cells": [
    {
     "cell_type": "code",
     "collapsed": false,
     "input": [
      "import os\n",
      "pos_img_dir = './INRIAPerson/train_64x128_H96/pos/'\n",
      "neg_img_dir = './INRIAPerson/train_64x128_H96/neg/'\n",
      "\n",
      "pos_img_files = os.listdir(pos_img_dir)\n",
      "neg_img_files = os.listdir(neg_img_dir)"
     ],
     "language": "python",
     "metadata": {},
     "outputs": [],
     "prompt_number": 1
    },
    {
     "cell_type": "code",
     "collapsed": false,
     "input": [
      "from skimage import data, color, exposure\n",
      "from skimage.feature import hog\n",
      "\n",
      "pos_filepath = pos_img_dir + pos_img_files[0]\n",
      "pos_img = data.imread(pos_filepath,as_grey=True)\n",
      "neg_filepath = neg_img_dir + neg_img_files[0]\n",
      "neg_img = data.imread(neg_filepath,as_grey=True)"
     ],
     "language": "python",
     "metadata": {},
     "outputs": [],
     "prompt_number": 2
    },
    {
     "cell_type": "code",
     "collapsed": false,
     "input": [
      "import matplotlib.image as mpimg\n",
      "import matplotlib.pyplot as plt\n",
      "plt.figure(figsize=(16, 4))\n",
      "\n",
      "PERSON_WIDTH = 64 \n",
      "PERSON_HEIGHT = 128\n",
      "leftop = [16,16]\n",
      "rightbottom =  [16+PERSON_WIDTH,16+PERSON_HEIGHT]\n",
      "\n",
      "pos_roi = pos_img[leftop[1]:rightbottom[1],leftop[0]:rightbottom[0]]\n",
      "fd, pos_hog_image = hog(pos_roi, orientations=9, pixels_per_cell=(8,8),cells_per_block=(2,2), visualise=True)\n",
      "neg_roi = neg_img[leftop[1]:rightbottom[1],leftop[0]:rightbottom[0]]\n",
      "fd, neg_hog_image = hog(neg_roi, orientations=9, pixels_per_cell=(8,8),cells_per_block=(2,2), visualise=True)\n",
      "pos_hog_image = exposure.rescale_intensity(pos_hog_image, in_range=(0, 0.1))\n",
      "neg_hog_image = exposure.rescale_intensity(neg_hog_image, in_range=(0, 0.1))\n",
      "\n",
      "\n",
      "plt.subplot(141).set_axis_off()\n",
      "plt.imshow(pos_roi, cmap=plt.cm.gray)\n",
      "plt.title('Positive image 0')\n",
      "plt.subplot(142).set_axis_off()\n",
      "plt.imshow(pos_hog_image, cmap=plt.cm.gray)\n",
      "plt.title('Postive HOG')\n",
      "\n",
      "plt.subplot(143).set_axis_off()\n",
      "plt.imshow(neg_roi, cmap=plt.cm.gray)\n",
      "plt.title('Negative image 0')\n",
      "plt.subplot(144).set_axis_off()\n",
      "plt.imshow(neg_hog_image, cmap=plt.cm.gray)\n",
      "plt.title('Negative HOG')\n",
      "plt.show()"
     ],
     "language": "python",
     "metadata": {},
     "outputs": [],
     "prompt_number": 3
    }
   ],
   "metadata": {}
  }
 ]
}