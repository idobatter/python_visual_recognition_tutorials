{
 "metadata": {
  "name": "",
  "signature": "sha256:abb695aaa307e8196db36bdb57dc51a0389af48db9ff792eadcb47279af8f284"
 },
 "nbformat": 3,
 "nbformat_minor": 0,
 "worksheets": [
  {
   "cells": [
    {
     "cell_type": "code",
     "collapsed": false,
     "input": [
      "import os\n",
      "from skimage import data, color, exposure\n",
      "from skimage.feature import hog\n",
      "import matplotlib.image as mpimg\n",
      "import matplotlib.pyplot as plt\n",
      "import numpy as np\n",
      "plt.figure(figsize=(16, 4))\n",
      "\n",
      "PERSON_WIDTH = 64 \n",
      "PERSON_HEIGHT = 128\n",
      "leftop = [16,16]\n",
      "rightbottom =  [16+PERSON_WIDTH,16+PERSON_HEIGHT]\n",
      "\n",
      "pos_img_dir = './INRIAPerson/train_64x128_H96/pos/'\n",
      "neg_img_dir = './INRIAPerson/train_64x128_H96/neg/'\n",
      "pos_img_files = os.listdir(pos_img_dir)\n",
      "neg_img_files = os.listdir(neg_img_dir)\n",
      "\n",
      "X = []\n",
      "y = []\n",
      "print 'start loading ' + str(len(pos_img_files)) + ' positive files'\n",
      "for pos_img_file in pos_img_files:\n",
      "    pos_filepath = pos_img_dir + pos_img_file\n",
      "    pos_img = data.imread(pos_filepath,as_grey=True)\n",
      "    pos_roi = pos_img[leftop[1]:rightbottom[1],leftop[0]:rightbottom[0]]\n",
      "    fd = hog(pos_roi, orientations=9, pixels_per_cell=(8,8),cells_per_block=(2,2), visualise=False)\n",
      "    X.append(fd)\n",
      "    y.append(1)\n",
      "print 'start loading ' + str(len(neg_img_files)) + ' negative files'\n",
      "for neg_img_file in neg_img_files:\n",
      "    neg_filepath = neg_img_dir + neg_img_file\n",
      "    neg_img = data.imread(neg_filepath,as_grey=True)\n",
      "    neg_roi = neg_img[leftop[1]:rightbottom[1],leftop[0]:rightbottom[0]]\n",
      "    fd = hog(neg_roi, orientations=9, pixels_per_cell=(8,8),cells_per_block=(2,2), visualise=False)\n",
      "    X.append(fd)\n",
      "    y.append(0)\n",
      "    \n",
      "## covert list into numpy array\n",
      "X = np.array(X)\n",
      "y = np.array(y)\n",
      "print X.shape\n",
      "print y.shape\n",
      "\n",
      "from sklearn import svm\n",
      "from sklearn.externals import joblib\n",
      "print 'start learning SVM.'\n",
      "lin_clf = svm.LinearSVC()\n",
      "lin_clf.fit(X, y)  \n",
      "#clf = svm.SVC()\n",
      "#clf.fit(X, y)  \n",
      "print 'finish learning SVM.'\n",
      "joblib.dump(lin_clf, 'person_detector.pkl', compress=9)"
     ],
     "language": "python",
     "metadata": {},
     "outputs": [
      {
       "output_type": "stream",
       "stream": "stdout",
       "text": [
        "start loading 2416 positive files\n",
        "start loading 1218 negative files"
       ]
      },
      {
       "output_type": "stream",
       "stream": "stdout",
       "text": [
        "\n",
        "(3634, 3780)"
       ]
      },
      {
       "output_type": "stream",
       "stream": "stdout",
       "text": [
        "\n",
        "(3634,)\n",
        "start learning SVM."
       ]
      },
      {
       "output_type": "stream",
       "stream": "stdout",
       "text": [
        "\n",
        "finish learning SVM."
       ]
      },
      {
       "output_type": "stream",
       "stream": "stdout",
       "text": [
        "\n"
       ]
      },
      {
       "metadata": {},
       "output_type": "pyout",
       "prompt_number": 3,
       "text": [
        "['person_detector.pkl']"
       ]
      }
     ],
     "prompt_number": 3
    }
   ],
   "metadata": {}
  }
 ]
}